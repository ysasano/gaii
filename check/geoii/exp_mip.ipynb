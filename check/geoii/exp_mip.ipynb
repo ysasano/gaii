{
 "cells": [
  {
   "cell_type": "code",
   "execution_count": 1,
   "metadata": {},
   "outputs": [
    {
     "data": {
      "text/plain": [
       "[({0}, {1, 2, 3}),\n",
       " ({1}, {0, 2, 3}),\n",
       " ({2}, {0, 1, 3}),\n",
       " ({3}, {0, 1, 2}),\n",
       " ({0, 1}, {2, 3}),\n",
       " ({0, 2}, {1, 3}),\n",
       " ({0, 3}, {1, 2})]"
      ]
     },
     "execution_count": 1,
     "metadata": {},
     "output_type": "execute_result"
    }
   ],
   "source": [
    "import numpy as np\n",
    "\n",
    "import mip\n",
    "import var\n",
    "\n",
    "nodes = set(range(4))\n",
    "mip.generate_split_candidates(nodes)"
   ]
  },
  {
   "cell_type": "code",
   "execution_count": null,
   "metadata": {},
   "outputs": [],
   "source": [
    "D = 4\n",
    "initiali_state = np.random.multivariate_normal([0, 0, 0, 0], np.identity(4) * 0.1, size=1)[0]\n",
    "state_list = var.generate(initiali_state, A_true, Sigma_true, N=10000)\n",
    "nodes = set(range(D))\n",
    "result_depth_list = mip.search_split(state_list, nodes, depth=3)"
   ]
  }
 ],
 "metadata": {
  "interpreter": {
   "hash": "5f940158e88392ef47413333d82bd5c59458a877a21a464100a266bd7c694889"
  },
  "kernelspec": {
   "display_name": "Python 3.9.7 64-bit ('.venv': poetry)",
   "name": "python3"
  },
  "language_info": {
   "codemirror_mode": {
    "name": "ipython",
    "version": 3
   },
   "file_extension": ".py",
   "mimetype": "text/x-python",
   "name": "python",
   "nbconvert_exporter": "python",
   "pygments_lexer": "ipython3",
   "version": "3.9.7"
  },
  "orig_nbformat": 4
 },
 "nbformat": 4,
 "nbformat_minor": 2
}
