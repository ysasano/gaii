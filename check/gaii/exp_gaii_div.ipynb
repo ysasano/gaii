{
 "cells": [
  {
   "cell_type": "code",
   "execution_count": 7,
   "metadata": {},
   "outputs": [],
   "source": [
    "import datetime\n",
    "import matplotlib.pyplot as plt\n",
    "import numpy as np\n",
    "\n",
    "from numpy import linalg\n",
    "from pathlib import Path\n",
    "from tqdm import tqdm_notebook as tqdm\n",
    "from tqdm.notebook import tqdm\n",
    "\n",
    "import gaii_cond_linear\n",
    "import var\n",
    "import visualize"
   ]
  },
  {
   "cell_type": "code",
   "execution_count": 8,
   "metadata": {},
   "outputs": [],
   "source": [
    "def plot_divergence(result, datadir, N):\n",
    "    x = [t[\"x\"] for t in result]\n",
    "    js = [t[\"js\"] for t in result]\n",
    "    mi = [t[\"mi\"] for t in result]\n",
    "\n",
    "    fig = plt.figure()\n",
    "    ax1 = fig.add_subplot(2, 1, 1)\n",
    "    ax1.plot(x, js, label=\"JS\")\n",
    "    ax1.legend()\n",
    "    ax2 = fig.add_subplot(2, 1, 2)\n",
    "    ax2.plot(x, mi, label=\"MI\")\n",
    "    ax2.legend()\n",
    "    plt.savefig(datadir.joinpath(\"N={}／divergence.png\".format(N)))\n",
    "    plt.close('all')\n",
    "\n",
    "def plot_state_list(state_list, datadir):\n",
    "    plt.figure()\n",
    "    plt.plot(state_list[:, 0])\n",
    "    plt.savefig(datadir.joinpath(\"state_list.png\"))\n",
    "    plt.close('all')\n",
    "\n",
    "def experiment_gaiit(N, datadir, target, mask, noise=\"low\"):\n",
    "    result=[]\n",
    "    variants = np.arange(0.05, 0.4, 0.05)\n",
    "    for x in tqdm(variants):\n",
    "        localdir = datadir.joinpath(\"N={N}／target={target}／x={x:.3f}／mask={mask}\".format(**locals()))\n",
    "        localdir.mkdir(parents=True, exist_ok=True)\n",
    "        if target == \"diag\":\n",
    "            A_true = np.eye(N,N) * x + np.eye(N,N,k=1) * 0.05\n",
    "        elif target == \"no_diag\":\n",
    "            A_true = np.eye(N,N) * 0.05 + np.eye(N,N,k=1) * x\n",
    "        else:\n",
    "            assert \"ここには入らない\"\n",
    "        if noise == \"low\":\n",
    "            Sigma_true = np.eye(N,N) * 0.03 + np.eye(N,N,k=1) * 0.03\n",
    "        else:\n",
    "            L = np.eye(N,N) * 1 + np.eye(N,N,k=1) * 0.7\n",
    "            Sigma_true = L @ L.T\n",
    "\n",
    "        initiali_state = np.random.multivariate_normal([0] * N, np.eye(N,N) * 0.1, size=1)[0]\n",
    "        state_list = var.generate(initiali_state, A_true, Sigma_true, N=10000)\n",
    "        plot_state_list(state_list, localdir)\n",
    "\n",
    "        mi = 1/2 * np.log(linalg.det(np.cov(state_list.T)) / linalg.det(Sigma_true))\n",
    "        if mask == \"eye\":\n",
    "            mask_q = np.eye(N, N)\n",
    "        elif mask == \"none\":\n",
    "            mask_q = np.ones((N, N))\n",
    "        else:\n",
    "            assert \"NG\"\n",
    "        model_q = gaii_cond_linear.fit_q(state_list, mask_q, n_step=10000)\n",
    "        js = model_q[\"js\"]\n",
    "\n",
    "        with localdir.joinpath(\"log.txt\").open(\"w\") as f:\n",
    "            f.write(\"A\\n\" + str(A_true) + \"\\n\\n\")\n",
    "            f.write(\"det A\\n\" + str(linalg.det(A_true)) + \"\\n\\n\")\n",
    "            f.write(\"SigmaE\\n\" + str(Sigma_true) + \"\\n\\n\")\n",
    "            f.write(\"det SigmaE\\n\" + str(linalg.det(Sigma_true)) + \"\\n\\n\")\n",
    "            f.write(\"Phi_mi\" + str(mi) + \"\\n\")\n",
    "            f.write(\"Phi_js\" + str(js) + \"\\n\")\n",
    "\n",
    "        visualize.imshow(model_q, localdir)\n",
    "        visualize.failure_check(model_q, localdir)\n",
    "        visualize.mode_check(model_q, localdir)\n",
    "        result.append({\n",
    "            \"x\": x,\n",
    "            \"js\": js,\n",
    "            \"mi\": mi\n",
    "        })\n",
    "    plot_divergence(result, datadir, N)\n",
    "\n"
   ]
  },
  {
   "cell_type": "code",
   "execution_count": 11,
   "metadata": {},
   "outputs": [
    {
     "data": {
      "application/vnd.jupyter.widget-view+json": {
       "model_id": "d4f35f82729f46a1889800b0fbe441c1",
       "version_major": 2,
       "version_minor": 0
      },
      "text/plain": [
       "  0%|          | 0/7 [00:00<?, ?it/s]"
      ]
     },
     "metadata": {},
     "output_type": "display_data"
    },
    {
     "name": "stderr",
     "output_type": "stream",
     "text": [
      "/Users/sasano/gaii/src/var.py:11: RuntimeWarning: covariance is not positive-semidefinite.\n",
      "  E = np.random.multivariate_normal(\n",
      "[E thread_pool.cpp:112] Exception in thread pool task: mutex lock failed: Invalid argument\n"
     ]
    },
    {
     "ename": "KeyboardInterrupt",
     "evalue": "",
     "output_type": "error",
     "traceback": [
      "\u001b[0;31m---------------------------------------------------------------------------\u001b[0m",
      "\u001b[0;31mKeyboardInterrupt\u001b[0m                         Traceback (most recent call last)",
      "\u001b[0;32m/var/folders/37/j5zfl4x14f59h9qczzx1yqvc0000gn/T/ipykernel_52483/4234948321.py\u001b[0m in \u001b[0;36m<module>\u001b[0;34m\u001b[0m\n\u001b[1;32m      5\u001b[0m \u001b[0;34m\u001b[0m\u001b[0m\n\u001b[1;32m      6\u001b[0m \u001b[0;32mfor\u001b[0m \u001b[0mN\u001b[0m \u001b[0;32min\u001b[0m \u001b[0;34m[\u001b[0m\u001b[0;36m2\u001b[0m\u001b[0;34m,\u001b[0m \u001b[0;36m4\u001b[0m\u001b[0;34m,\u001b[0m \u001b[0;36m8\u001b[0m\u001b[0;34m,\u001b[0m \u001b[0;36m16\u001b[0m\u001b[0;34m,\u001b[0m \u001b[0;36m32\u001b[0m\u001b[0;34m]\u001b[0m\u001b[0;34m:\u001b[0m\u001b[0;34m\u001b[0m\u001b[0;34m\u001b[0m\u001b[0m\n\u001b[0;32m----> 7\u001b[0;31m     \u001b[0mexperiment_gaiit\u001b[0m\u001b[0;34m(\u001b[0m\u001b[0mN\u001b[0m\u001b[0;34m=\u001b[0m\u001b[0mN\u001b[0m\u001b[0;34m,\u001b[0m \u001b[0mdatadir\u001b[0m\u001b[0;34m=\u001b[0m\u001b[0mdatadir\u001b[0m\u001b[0;34m,\u001b[0m \u001b[0mtarget\u001b[0m\u001b[0;34m=\u001b[0m\u001b[0;34m\"no_diag\"\u001b[0m\u001b[0;34m,\u001b[0m \u001b[0mmask\u001b[0m\u001b[0;34m=\u001b[0m\u001b[0;34m\"eye\"\u001b[0m\u001b[0;34m,\u001b[0m \u001b[0mnoise\u001b[0m\u001b[0;34m=\u001b[0m\u001b[0;34m\"low\"\u001b[0m\u001b[0;34m)\u001b[0m\u001b[0;34m\u001b[0m\u001b[0;34m\u001b[0m\u001b[0m\n\u001b[0m",
      "\u001b[0;32m/var/folders/37/j5zfl4x14f59h9qczzx1yqvc0000gn/T/ipykernel_52483/962519558.py\u001b[0m in \u001b[0;36mexperiment_gaiit\u001b[0;34m(N, datadir, target, mask, noise)\u001b[0m\n\u001b[1;32m     49\u001b[0m         \u001b[0;32melse\u001b[0m\u001b[0;34m:\u001b[0m\u001b[0;34m\u001b[0m\u001b[0;34m\u001b[0m\u001b[0m\n\u001b[1;32m     50\u001b[0m             \u001b[0;32massert\u001b[0m \u001b[0;34m\"NG\"\u001b[0m\u001b[0;34m\u001b[0m\u001b[0;34m\u001b[0m\u001b[0m\n\u001b[0;32m---> 51\u001b[0;31m         \u001b[0mmodel_q\u001b[0m \u001b[0;34m=\u001b[0m \u001b[0mgaii\u001b[0m\u001b[0;34m.\u001b[0m\u001b[0mfit_q\u001b[0m\u001b[0;34m(\u001b[0m\u001b[0mstate_list\u001b[0m\u001b[0;34m,\u001b[0m \u001b[0mmask_q\u001b[0m\u001b[0;34m,\u001b[0m \u001b[0mn_step\u001b[0m\u001b[0;34m=\u001b[0m\u001b[0;36m10000\u001b[0m\u001b[0;34m)\u001b[0m\u001b[0;34m\u001b[0m\u001b[0;34m\u001b[0m\u001b[0m\n\u001b[0m\u001b[1;32m     52\u001b[0m         \u001b[0mjs\u001b[0m \u001b[0;34m=\u001b[0m \u001b[0mmodel_q\u001b[0m\u001b[0;34m[\u001b[0m\u001b[0;34m\"js\"\u001b[0m\u001b[0;34m]\u001b[0m\u001b[0;34m\u001b[0m\u001b[0;34m\u001b[0m\u001b[0m\n\u001b[1;32m     53\u001b[0m \u001b[0;34m\u001b[0m\u001b[0m\n",
      "\u001b[0;32m~/gaii/src/gaii.py\u001b[0m in \u001b[0;36mfit_q\u001b[0;34m(state_list, mask, batch_size, n_step, debug)\u001b[0m\n\u001b[1;32m    137\u001b[0m \u001b[0;34m\u001b[0m\u001b[0m\n\u001b[1;32m    138\u001b[0m         \u001b[0;31m# リアルのサンプルとニセのサンプルを正しく見分けられるように学習\u001b[0m\u001b[0;34m\u001b[0m\u001b[0;34m\u001b[0m\u001b[0m\n\u001b[0;32m--> 139\u001b[0;31m         \u001b[0mD_fake\u001b[0m \u001b[0;34m=\u001b[0m \u001b[0mD\u001b[0m\u001b[0;34m(\u001b[0m\u001b[0mfake_x\u001b[0m\u001b[0;34m,\u001b[0m \u001b[0mfake_y\u001b[0m\u001b[0;34m.\u001b[0m\u001b[0mdetach\u001b[0m\u001b[0;34m(\u001b[0m\u001b[0;34m)\u001b[0m\u001b[0;34m)\u001b[0m\u001b[0;34m\u001b[0m\u001b[0;34m\u001b[0m\u001b[0m\n\u001b[0m\u001b[1;32m    140\u001b[0m         \u001b[0mD_real\u001b[0m \u001b[0;34m=\u001b[0m \u001b[0mD\u001b[0m\u001b[0;34m(\u001b[0m\u001b[0mreal_x\u001b[0m\u001b[0;34m,\u001b[0m \u001b[0mreal_y\u001b[0m\u001b[0;34m)\u001b[0m\u001b[0;34m\u001b[0m\u001b[0;34m\u001b[0m\u001b[0m\n\u001b[1;32m    141\u001b[0m         \u001b[0;32mif\u001b[0m \u001b[0mmode\u001b[0m \u001b[0;34m==\u001b[0m \u001b[0;34m\"GAN\"\u001b[0m\u001b[0;34m:\u001b[0m\u001b[0;34m\u001b[0m\u001b[0;34m\u001b[0m\u001b[0m\n",
      "\u001b[0;32m~/gaii/.venv/lib/python3.9/site-packages/torch/nn/modules/module.py\u001b[0m in \u001b[0;36m_call_impl\u001b[0;34m(self, *input, **kwargs)\u001b[0m\n\u001b[1;32m   1049\u001b[0m         if not (self._backward_hooks or self._forward_hooks or self._forward_pre_hooks or _global_backward_hooks\n\u001b[1;32m   1050\u001b[0m                 or _global_forward_hooks or _global_forward_pre_hooks):\n\u001b[0;32m-> 1051\u001b[0;31m             \u001b[0;32mreturn\u001b[0m \u001b[0mforward_call\u001b[0m\u001b[0;34m(\u001b[0m\u001b[0;34m*\u001b[0m\u001b[0minput\u001b[0m\u001b[0;34m,\u001b[0m \u001b[0;34m**\u001b[0m\u001b[0mkwargs\u001b[0m\u001b[0;34m)\u001b[0m\u001b[0;34m\u001b[0m\u001b[0;34m\u001b[0m\u001b[0m\n\u001b[0m\u001b[1;32m   1052\u001b[0m         \u001b[0;31m# Do not call functions when jit is used\u001b[0m\u001b[0;34m\u001b[0m\u001b[0;34m\u001b[0m\u001b[0m\n\u001b[1;32m   1053\u001b[0m         \u001b[0mfull_backward_hooks\u001b[0m\u001b[0;34m,\u001b[0m \u001b[0mnon_full_backward_hooks\u001b[0m \u001b[0;34m=\u001b[0m \u001b[0;34m[\u001b[0m\u001b[0;34m]\u001b[0m\u001b[0;34m,\u001b[0m \u001b[0;34m[\u001b[0m\u001b[0;34m]\u001b[0m\u001b[0;34m\u001b[0m\u001b[0;34m\u001b[0m\u001b[0m\n",
      "\u001b[0;32m~/gaii/src/gaii.py\u001b[0m in \u001b[0;36mforward\u001b[0;34m(self, x, y)\u001b[0m\n\u001b[1;32m     77\u001b[0m             \u001b[0my\u001b[0m \u001b[0;34m=\u001b[0m \u001b[0my\u001b[0m\u001b[0;34m.\u001b[0m\u001b[0mcuda\u001b[0m\u001b[0;34m(\u001b[0m\u001b[0;34m)\u001b[0m\u001b[0;34m\u001b[0m\u001b[0;34m\u001b[0m\u001b[0m\n\u001b[1;32m     78\u001b[0m         \u001b[0mx_y\u001b[0m \u001b[0;34m=\u001b[0m \u001b[0mtorch\u001b[0m\u001b[0;34m.\u001b[0m\u001b[0mhstack\u001b[0m\u001b[0;34m(\u001b[0m\u001b[0;34m(\u001b[0m\u001b[0mx\u001b[0m\u001b[0;34m,\u001b[0m \u001b[0my\u001b[0m\u001b[0;34m)\u001b[0m\u001b[0;34m)\u001b[0m\u001b[0;34m\u001b[0m\u001b[0;34m\u001b[0m\u001b[0m\n\u001b[0;32m---> 79\u001b[0;31m         \u001b[0mx_y\u001b[0m \u001b[0;34m=\u001b[0m \u001b[0mtorch\u001b[0m\u001b[0;34m.\u001b[0m\u001b[0mtanh\u001b[0m\u001b[0;34m(\u001b[0m\u001b[0mself\u001b[0m\u001b[0;34m.\u001b[0m\u001b[0mfc1\u001b[0m\u001b[0;34m(\u001b[0m\u001b[0mx_y\u001b[0m\u001b[0;34m)\u001b[0m\u001b[0;34m)\u001b[0m\u001b[0;34m\u001b[0m\u001b[0;34m\u001b[0m\u001b[0m\n\u001b[0m\u001b[1;32m     80\u001b[0m         \u001b[0;32mreturn\u001b[0m \u001b[0mtorch\u001b[0m\u001b[0;34m.\u001b[0m\u001b[0msigmoid\u001b[0m\u001b[0;34m(\u001b[0m\u001b[0mself\u001b[0m\u001b[0;34m.\u001b[0m\u001b[0mfc2\u001b[0m\u001b[0;34m(\u001b[0m\u001b[0mx_y\u001b[0m\u001b[0;34m)\u001b[0m\u001b[0;34m)\u001b[0m\u001b[0;34m\u001b[0m\u001b[0;34m\u001b[0m\u001b[0m\n\u001b[1;32m     81\u001b[0m \u001b[0;34m\u001b[0m\u001b[0m\n",
      "\u001b[0;31mKeyboardInterrupt\u001b[0m: "
     ]
    }
   ],
   "source": [
    "now = datetime.datetime.now()\n",
    "datadir = Path(\"../data\") / \"exp_gaii_div\" / now.strftime('%Y%m%d-%H%M%S')\n",
    "datadir.mkdir(parents=True, exist_ok=True)\n",
    "\n",
    "for N in [2, 4, 8, 16, 32]:\n",
    "    experiment_gaiit(N=N, datadir=datadir, target=\"no_diag\", mask=\"eye\", noise=\"low\")"
   ]
  },
  {
   "cell_type": "code",
   "execution_count": 29,
   "metadata": {},
   "outputs": [
    {
     "data": {
      "text/plain": [
       "tensor([[ 0.1524, -0.5824, -0.6356],\n",
       "        [-0.7590, -0.7316,  2.4858]])"
      ]
     },
     "execution_count": 29,
     "metadata": {},
     "output_type": "execute_result"
    }
   ],
   "source": [
    "import torch\n",
    "x = torch.randn(2, 3)\n",
    "x"
   ]
  },
  {
   "cell_type": "code",
   "execution_count": 32,
   "metadata": {},
   "outputs": [
    {
     "data": {
      "text/plain": [
       "tensor([[[ 0.1524, -0.5824],\n",
       "         [-0.5824, -0.6356]],\n",
       "\n",
       "        [[-0.7590, -0.7316],\n",
       "         [-0.7316,  2.4858]]])"
      ]
     },
     "execution_count": 32,
     "metadata": {},
     "output_type": "execute_result"
    }
   ],
   "source": [
    "x[:, [[0,1], [1,2]]]"
   ]
  },
  {
   "cell_type": "code",
   "execution_count": 37,
   "metadata": {},
   "outputs": [
    {
     "ename": "TypeError",
     "evalue": "arange: scalar arguments expected instead of a tuple.",
     "output_type": "error",
     "traceback": [
      "\u001b[0;31m---------------------------------------------------------------------------\u001b[0m",
      "\u001b[0;31mTypeError\u001b[0m                                 Traceback (most recent call last)",
      "\u001b[0;32m/var/folders/37/j5zfl4x14f59h9qczzx1yqvc0000gn/T/ipykernel_39791/4065869977.py\u001b[0m in \u001b[0;36m<module>\u001b[0;34m\u001b[0m\n\u001b[0;32m----> 1\u001b[0;31m \u001b[0mnp\u001b[0m\u001b[0;34m.\u001b[0m\u001b[0marange\u001b[0m\u001b[0;34m(\u001b[0m\u001b[0;34m(\u001b[0m\u001b[0;36m1\u001b[0m\u001b[0;34m,\u001b[0m\u001b[0;36m3\u001b[0m\u001b[0;34m)\u001b[0m\u001b[0;34m,\u001b[0m \u001b[0;34m(\u001b[0m\u001b[0;36m3\u001b[0m\u001b[0;34m,\u001b[0m\u001b[0;36m5\u001b[0m\u001b[0;34m)\u001b[0m\u001b[0;34m)\u001b[0m\u001b[0;34m\u001b[0m\u001b[0;34m\u001b[0m\u001b[0m\n\u001b[0m",
      "\u001b[0;31mTypeError\u001b[0m: arange: scalar arguments expected instead of a tuple."
     ]
    }
   ],
   "source": [
    "np.arange((1,3), (3,5))"
   ]
  },
  {
   "cell_type": "code",
   "execution_count": null,
   "metadata": {},
   "outputs": [],
   "source": []
  }
 ],
 "metadata": {
  "interpreter": {
   "hash": "5f940158e88392ef47413333d82bd5c59458a877a21a464100a266bd7c694889"
  },
  "kernelspec": {
   "display_name": "Python 3.9.7 64-bit ('.venv': poetry)",
   "name": "python3"
  },
  "language_info": {
   "codemirror_mode": {
    "name": "ipython",
    "version": 3
   },
   "file_extension": ".py",
   "mimetype": "text/x-python",
   "name": "python",
   "nbconvert_exporter": "python",
   "pygments_lexer": "ipython3",
   "version": "3.9.10"
  },
  "orig_nbformat": 4
 },
 "nbformat": 4,
 "nbformat_minor": 2
}
